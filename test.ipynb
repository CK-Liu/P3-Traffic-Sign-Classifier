{
 "cells": [
  {
   "cell_type": "code",
   "execution_count": 1,
   "id": "ed807bb5",
   "metadata": {},
   "outputs": [
    {
     "name": "stdout",
     "output_type": "stream",
     "text": [
      "Tuple of arrays returned :  (array([ 4,  7, 11], dtype=int64),)\n",
      "Elements with value 15 exists at following indices\n",
      "[ 4  7 11]\n"
     ]
    }
   ],
   "source": [
    "import numpy as np\n",
    "# Create a numpy array from a list of numbers\n",
    "arr = np.array([11, 12, 13, 14, 15, 16, 17, 15, 11, 12, 14, 15, 16, 17])\n",
    "\n",
    "result = np.where(arr == 15)\n",
    "print('Tuple of arrays returned : ', result)\n",
    "print(\"Elements with value 15 exists at following indices\", result[0], sep='\\n')"
   ]
  },
  {
   "cell_type": "code",
   "execution_count": 3,
   "id": "04158995",
   "metadata": {},
   "outputs": [
    {
     "name": "stdout",
     "output_type": "stream",
     "text": [
      "7\n"
     ]
    }
   ],
   "source": [
    "print(result[0][1])"
   ]
  },
  {
   "cell_type": "code",
   "execution_count": null,
   "id": "865f5f15",
   "metadata": {},
   "outputs": [],
   "source": []
  }
 ],
 "metadata": {
  "kernelspec": {
   "display_name": "Python 3",
   "language": "python",
   "name": "python3"
  },
  "language_info": {
   "codemirror_mode": {
    "name": "ipython",
    "version": 3
   },
   "file_extension": ".py",
   "mimetype": "text/x-python",
   "name": "python",
   "nbconvert_exporter": "python",
   "pygments_lexer": "ipython3",
   "version": "3.5.6"
  }
 },
 "nbformat": 4,
 "nbformat_minor": 5
}
